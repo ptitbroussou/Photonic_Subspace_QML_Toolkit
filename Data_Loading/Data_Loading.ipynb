{
 "cells": [
  {
   "cell_type": "markdown",
   "metadata": {},
   "source": [
    "# __Photonic Tensor Data Loading__"
   ]
  },
  {
   "cell_type": "markdown",
   "metadata": {},
   "source": [
    "In this Section, we present how to encode classical data using the tensor encoding method. In here, we consider 2-dimensional data such that:\n",
    "\n",
    "$\\forall x \\in \\mathbb{R}^{d_1 \\times d_2}, \\quad \\longrightarrow \\quad \\rho_x = \\ket{x}\\bra{x} \\quad \\text{with} \\quad \\ket{x} = \\sum_{(i,j) \\in [d_1]\\times[d_2]} \\frac{x_{i,j}}{||x||}\\ket{e_i,e_j}$\n"
   ]
  },
  {
   "cell_type": "markdown",
   "metadata": {},
   "source": [
    "## <mark>Classical Data Loading and Preprocessing</mark>\n",
    "\n",
    "We propose different classical data loading method. We focus on digits dataset, namely the <span style=\"color:red\">sklearn digit</span> dataset, the <span style=\"color:red\">keras MNIST</span> dataset, and the <span style=\"color:red\">pennylane BAS</span> dataset. We consider the different possibilities: \n",
    "1. Loading the raw data from both datasets\n",
    "2. Reducing the dimension using Principal Component Analysis (PCA)\n",
    "3. Reducing the dimension using the Average Pooling method\n",
    "\n",
    "Let's start with loading the <span style=\"color:magenta\">raw data</span>:"
   ]
  },
  {
   "cell_type": "code",
   "execution_count": 1,
   "metadata": {},
   "outputs": [
    {
     "name": "stdout",
     "output_type": "stream",
     "text": [
      "Sklearn digit dataset:\n",
      "Train data and label tensors of size:(100, 8, 8) and (100,)\n",
      "Test data and label tensors of size:(100, 8, 8) and (100,)\n",
      "Tensorflow MNIST dataset:\n",
      "Train data and label tensors of size:(100, 28, 28) and (100,)\n",
      "Test data and label tensors of size:(100, 28, 28) and (100,)\n",
      "Pennylane Bars and Stripes dataset:\n"
     ]
    },
    {
     "name": "stderr",
     "output_type": "stream",
     "text": [
      "/Users/leomonbroussou/Documents/GitHub/Photonic_Simulation_QCNN/Data_Loading/toolbox_data.py:75: UserWarning: Creating a tensor from a list of numpy.ndarrays is extremely slow. Please consider converting the list to a single numpy.ndarray with numpy.array() before converting to a tensor. (Triggered internally at /Users/runner/work/pytorch/pytorch/pytorch/torch/csrc/utils/tensor_new.cpp:281.)\n",
      "  tensor_train_data, tensor_test_data = torch.tensor(train_list_data_array, dtype=torch.float32), torch.tensor(test_list_data_array, dtype=torch.float32)\n"
     ]
    },
    {
     "name": "stdout",
     "output_type": "stream",
     "text": [
      "Train data and label tensors of size:(100, 4, 4) and (100,)\n",
      "Test data and label tensors of size:(100, 4, 4) and (100,)\n"
     ]
    }
   ],
   "source": [
    "### Loading the required libraries\n",
    "import os, sys\n",
    "\n",
    "sys.path.append(os.path.dirname(os.path.abspath('')))\n",
    "\n",
    "import warnings\n",
    "import time\n",
    "import torch\n",
    "\n",
    "from Classical_Data import *\n",
    "\n",
    "# Hyperparameters:\n",
    "batch_size = 1\n",
    "train_dataset_number = 100\n",
    "test_dataset_number = 100\n",
    "class_set = [0, 1]\n",
    "\n",
    "# Sklearn digit dataset:\n",
    "print('Sklearn digit dataset:')\n",
    "train_dataloader_sklearn, test_dataloader_sklearn = Digits_sklearn_raw(class_set, train_dataset_number, test_dataset_number, batch_size)\n",
    "# Tensorflow MNIST dataset:\n",
    "print('Tensorflow MNIST dataset:')\n",
    "train_dataloader_mnist, test_dataloader_mnist = MNIST_tensorflow_raw(class_set, train_dataset_number, test_dataset_number, batch_size)\n",
    "# Pennylane Bars and Stripes dataset:\n",
    "print('Pennylane Bars and Stripes dataset:')\n",
    "train_data_loader_bas, test_dataloader_bas = BAS_pennylane_special(4, train_dataset_number, test_dataset_number, batch_size)"
   ]
  },
  {
   "cell_type": "markdown",
   "metadata": {},
   "source": [
    "We plot the raw data from each dataset:"
   ]
  },
  {
   "cell_type": "code",
   "execution_count": 9,
   "metadata": {},
   "outputs": [
    {
     "data": {
      "text/plain": [
       "<Figure size 640x480 with 0 Axes>"
      ]
     },
     "metadata": {},
     "output_type": "display_data"
    },
    {
     "data": {
      "image/png": "[encoded data removed]",
      "text/plain": [
       "<Figure size 640x480 with 3 Axes>"
      ]
     },
     "metadata": {},
     "output_type": "display_data"
    }
   ],
   "source": [
    "import matplotlib.pyplot as plt\n",
    "\n",
    "sample = 3\n",
    "\n",
    "plt.figure()\n",
    "\n",
    "#subplot(r,c) provide the no. of rows and columns\n",
    "f, axarr = plt.subplots(1,3)\n",
    "axarr[0].imshow(train_dataloader_sklearn.dataset.tensors[0][0])\n",
    "axarr[0].title.set_text('Sklearn')\n",
    "axarr[1].imshow(train_dataloader_mnist.dataset.tensors[0][0])\n",
    "axarr[1].title.set_text('Tensorflow MNIST')\n",
    "axarr[2].imshow(train_data_loader_bas.dataset.tensors[0][sample])\n",
    "axarr[2].title.set_text('BAS')"
   ]
  },
  {
   "cell_type": "code",
   "execution_count": 12,
   "metadata": {},
   "outputs": [
    {
     "name": "stdout",
     "output_type": "stream",
     "text": [
      "label: tensor(1)\n",
      "tensor([[-1.,  1.,  1.,  1.],\n",
      "        [-1.,  1.,  1.,  1.],\n",
      "        [-1.,  1.,  1.,  1.],\n",
      "        [-1.,  1.,  1.,  1.]])\n"
     ]
    },
    {
     "data": {
      "text/plain": [
       "<Figure size 640x480 with 0 Axes>"
      ]
     },
     "metadata": {},
     "output_type": "display_data"
    },
    {
     "data": {
      "image/png": "[encoded data removed]",
      "text/plain": [
       "<Figure size 640x480 with 1 Axes>"
      ]
     },
     "metadata": {},
     "output_type": "display_data"
    }
   ],
   "source": [
    "import matplotlib.pyplot as plt\n",
    "\n",
    "\n",
    "sample = 3\n",
    "\n",
    "plt.figure()\n",
    "#subplot(r,c) provide the no. of rows and columns\n",
    "f, axarr = plt.subplots(1,1)\n",
    "axarr.imshow(train_data_loader_bas.dataset.tensors[0][sample])\n",
    "axarr.title.set_text('BAS')\n",
    "\n",
    "print(\"label:\", train_data_loader_bas.dataset.tensors[1][sample])\n",
    "print(train_data_loader_bas.dataset.tensors[0][sample])"
   ]
  },
  {
   "cell_type": "markdown",
   "metadata": {},
   "source": [
    "One can preprocess the classical data by using different technics. We investigate two of them: Principal Components Analysis (PCA) and the use of average Pooling method.\n",
    "\n",
    "Let's start with <span style=\"color:magenta\">Principal Component Analysis</span> data reduction:"
   ]
  },
  {
   "cell_type": "code",
   "execution_count": 4,
   "metadata": {},
   "outputs": [
    {
     "name": "stdout",
     "output_type": "stream",
     "text": [
      "Sklearn digit dataset:\n",
      "(100, 6, 6) (100,) (100, 6, 6) (100,)\n",
      "Tensorflow MNIST dataset:\n",
      "(100, 6, 6) (100,) (100, 6, 6) (100,)\n"
     ]
    }
   ],
   "source": [
    "# Hyperparameters:\n",
    "batch_size = 1\n",
    "train_dataset_number = 100\n",
    "test_dataset_number = 100\n",
    "class_set = [0, 1]\n",
    "nbr_rows, nbr_cols = 6, 6 \n",
    "\n",
    "# Sklearn digit dataset:\n",
    "print('Sklearn digit dataset:')\n",
    "train_dataloader_sklearn, test_dataloader_sklearn = Digits_sklearn_PCA(class_set, train_dataset_number, test_dataset_number, batch_size, nbr_rows, nbr_cols)\n",
    "# Tensorflow MNIST dataset:\n",
    "print('Tensorflow MNIST dataset:')\n",
    "train_dataloader_mnist, test_dataloader_mnist = MNIST_tensorflow_PCA(class_set, train_dataset_number, test_dataset_number, batch_size, nbr_rows, nbr_cols)"
   ]
  },
  {
   "cell_type": "markdown",
   "metadata": {},
   "source": [
    "Let's consider <span style=\"color:magenta\">Average Pooling</span> data reduction:"
   ]
  },
  {
   "cell_type": "code",
   "execution_count": 5,
   "metadata": {},
   "outputs": [
    {
     "name": "stdout",
     "output_type": "stream",
     "text": [
      "Sklearn digit dataset:\n",
      "(100, 6, 6) (100,) (100, 6, 6) (100,)\n",
      "Tensorflow MNIST dataset:\n",
      "(100, 6, 6) (100,) (100, 6, 6) (100,)\n"
     ]
    }
   ],
   "source": [
    "# Hyperparameters:\n",
    "batch_size = 1\n",
    "train_dataset_number = 100\n",
    "test_dataset_number = 100\n",
    "class_set = [0, 1]\n",
    "nbr_rows, nbr_cols = 6, 6 \n",
    "\n",
    "# Sklearn digit dataset:\n",
    "print('Sklearn digit dataset:')\n",
    "train_dataloader_sklearn, test_dataloader_sklearn = Digits_sklearn_Pooling(class_set, train_dataset_number, test_dataset_number, batch_size, nbr_rows, nbr_cols)\n",
    "# Tensorflow MNIST dataset:\n",
    "print('Tensorflow MNIST dataset:')\n",
    "train_dataloader_mnist, test_dataloader_mnist = MNIST_tensorflow_Pooling(class_set, train_dataset_number, test_dataset_number, batch_size, nbr_rows, nbr_cols)"
   ]
  },
  {
   "cell_type": "code",
   "execution_count": 6,
   "metadata": {},
   "outputs": [
    {
     "data": {
      "text/plain": [
       "<Figure size 640x480 with 0 Axes>"
      ]
     },
     "metadata": {},
     "output_type": "display_data"
    },
    {
     "data": {
      "text/plain": [
       "<Figure size 640x480 with 0 Axes>"
      ]
     },
     "metadata": {},
     "output_type": "display_data"
    },
    {
     "data": {
      "image/png": "[encoded data removed]",
      "text/plain": [
       "<Figure size 640x480 with 2 Axes>"
      ]
     },
     "metadata": {},
     "output_type": "display_data"
    }
   ],
   "source": [
    "plt.figure()\n",
    "\n",
    "plt.figure()\n",
    "\n",
    "#subplot(r,c) provide the no. of rows and columns\n",
    "f, axarr = plt.subplots(1,2)\n",
    "axarr[0].imshow(train_dataloader_sklearn.dataset.tensors[0][0])\n",
    "axarr[0].title.set_text('Sklearn dataset')\n",
    "axarr[1].imshow(train_dataloader_mnist.dataset.tensors[0][0])\n",
    "axarr[1].title.set_text('Tensorflow MNIST dataset')"
   ]
  },
  {
   "cell_type": "markdown",
   "metadata": {},
   "source": [
    "## <mark>Quantum Data Loader</mark>\n",
    "\n",
    "In this part, we explain how to perform the quantum data loader using a photonic plateform. We consider 2-dimensional data such that:\n",
    "\n",
    "$\\forall x \\in \\mathbb{R}^{d_1 \\times d_2}, \\quad \\longrightarrow \\quad \\rho_x = \\ket{x}\\bra{x} \\quad \\text{with} \\quad \\ket{x} = \\sum_{(i,j) \\in [d_1]\\times[d_2]} \\frac{x_{i,j}}{||x||}\\ket{e_i,e_j}$\n"
   ]
  }
 ],
 "metadata": {
  "kernelspec": {
   "display_name": "photonic_env",
   "language": "python",
   "name": "python3"
  },
  "language_info": {
   "codemirror_mode": {
    "name": "ipython",
    "version": 3
   },
   "file_extension": ".py",
   "mimetype": "text/x-python",
   "name": "python",
   "nbconvert_exporter": "python",
   "pygments_lexer": "ipython3",
   "version": "3.11.9"
  }
 },
 "nbformat": 4,
 "nbformat_minor": 2
}
