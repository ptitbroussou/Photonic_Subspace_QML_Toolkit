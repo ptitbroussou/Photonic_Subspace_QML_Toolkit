{
 "cells": [
  {
   "cell_type": "markdown",
   "metadata": {},
   "source": [
    "## __Photonic QCNN architecture__"
   ]
  },
  {
   "cell_type": "markdown",
   "metadata": {},
   "source": [
    "In this document, we test the photonic QCNN while considering a tensor data loader."
   ]
  },
  {
   "cell_type": "markdown",
   "metadata": {},
   "source": [
    "## <mark>Classical Data Loading and Preprocessing</mark>\n",
    "\n",
    "We load the data from the BAS dataset and we preprocess it:"
   ]
  },
  {
   "cell_type": "code",
   "execution_count": 1,
   "metadata": {},
   "outputs": [
    {
     "name": "stdout",
     "output_type": "stream",
     "text": [
      "Pennylane Bars and Stripes dataset:\n",
      "Train data and label tensors of size:(400, 4, 4) and (400,)\n",
      "Test data and label tensors of size:(200, 4, 4) and (200,)\n"
     ]
    }
   ],
   "source": [
    "### Loading the required libraries\n",
    "import os, sys\n",
    "\n",
    "sys.path.append(os.path.dirname(os.path.abspath('')))\n",
    "\n",
    "import warnings\n",
    "import time\n",
    "import torch\n",
    "\n",
    "from Data_Loading.Classical_Data import *\n",
    "\n",
    "\n",
    "# Hyperparameters:\n",
    "batch_size = 1\n",
    "train_dataset_number = 400\n",
    "test_dataset_number = 200\n",
    "class_set = [0, 1]\n",
    "nbr_rows, nbr_cols = 4, 4 \n",
    "\n",
    "# Pennylane Bars and Stripes dataset:\n",
    "print('Pennylane Bars and Stripes dataset:')\n",
    "train_data_loader, test_dataloader = BAS_pennylane_raw_MSE(4, train_dataset_number, test_dataset_number, batch_size)\n",
    "#train_data_loader, test_dataloader = BAS_pennylane_raw(4, train_dataset_number, test_dataset_number, batch_size)"
   ]
  },
  {
   "cell_type": "markdown",
   "metadata": {},
   "source": [
    "We applied a Pooling preprocessing. Let's plot one image we will use:"
   ]
  },
  {
   "cell_type": "code",
   "execution_count": 2,
   "metadata": {},
   "outputs": [
    {
     "name": "stdout",
     "output_type": "stream",
     "text": [
      "Corresponding Label: tensor([0, 1])\n"
     ]
    },
    {
     "data": {
      "image/png": "[encoded data removed]",
      "text/plain": [
       "<Figure size 640x480 with 1 Axes>"
      ]
     },
     "metadata": {},
     "output_type": "display_data"
    }
   ],
   "source": [
    "import matplotlib.pyplot as plt\n",
    "\n",
    "index = 0\n",
    "\n",
    "plt.figure()\n",
    "plt.imshow(train_data_loader.dataset.tensors[0][index])\n",
    "print(\"Corresponding Label:\", train_data_loader.dataset.tensors[1][index])"
   ]
  },
  {
   "cell_type": "markdown",
   "metadata": {},
   "source": [
    "## <mark>Some details on the quantum data loader:</mark>\n",
    "\n",
    "In this Section, I will explain how to represent a $4 \\times 4$ image of bars or strips __with all the pixels having the same positive value__. Let's take the example of the following input:"
   ]
  },
  {
   "cell_type": "code",
   "execution_count": 3,
   "metadata": {},
   "outputs": [
    {
     "name": "stdout",
     "output_type": "stream",
     "text": [
      "Checking the train samples\n",
      "Checking the test samples\n"
     ]
    }
   ],
   "source": [
    "print(\"Checking the train samples\")\n",
    "for sample in range(train_dataset_number):\n",
    "    if (sum(train_data_loader.dataset.tensors[0][sample].flatten()) == 0):\n",
    "        print(sample, train_data_loader.dataset.tensors[0][sample])\n",
    "\n",
    "print(\"Checking the test samples\")\n",
    "for sample in range(test_dataset_number):\n",
    "    if (sum(test_dataloader.dataset.tensors[0][sample].flatten()) == 0):\n",
    "        print(sample, test_dataloader.dataset.tensors[0][sample])"
   ]
  },
  {
   "cell_type": "markdown",
   "metadata": {},
   "source": [
    "## <mark>Quantum Convolutional Neural Network</mark>\n",
    "\n",
    "We define the Quantum Convolutional Neural Network architecture that will be used for the training:"
   ]
  },
  {
   "cell_type": "code",
   "execution_count": 4,
   "metadata": {},
   "outputs": [
    {
     "name": "stdout",
     "output_type": "stream",
     "text": [
      "Hilbert space dimension:  36\n"
     ]
    },
    {
     "name": "stderr",
     "output_type": "stream",
     "text": [
      "/Users/leomonbroussou/Documents/GitHub/Photonic_Subspace_QML_Toolkit/Layers/Linear_Optics.py:215: UserWarning: Casting complex values to real discards the imaginary part (Triggered internally at /Users/runner/work/pytorch/pytorch/pytorch/aten/src/ATen/native/Copy.cpp:305.)\n",
      "  HU = torch.tensor(HU, dtype=torch.float32, device=device)\n"
     ]
    }
   ],
   "source": [
    "from qoptcraft.basis import get_photon_basis, hilbert_dim\n",
    "from Layers.Linear_Optics import *\n",
    "from Layers.measurement import *\n",
    "from Layers.toolbox_basis_change import Basis_Change_Image_to_Fock_density, Basis_Change_Image_to_larger_Fock_density\n",
    "from Layers.HW_preserving_QCNN.Conv import Conv_RBS_density_I2\n",
    "from Layers.HW_preserving_QCNN.Pooling import Pooling_2D_density_HW\n",
    "from Layers.toolbox import PQNN\n",
    "\n",
    "### Hyperparameters:\n",
    "m = nbr_rows + nbr_cols #number of modes in total\n",
    "add1, add2 = 1, 1\n",
    "nbr_class = 2\n",
    "list_gates = [(2,3),(1,2),(3,4),(0,1),(2,3),(4,5),(1,2),(3,4)]\n",
    "modes_detected = [2,3]\n",
    "\n",
    "photon_basis = get_photon_basis(m, 2)\n",
    "dimension = hilbert_dim(m, 2)\n",
    "print(\"Hilbert space dimension: \", dimension)\n",
    "\n",
    "# Define the network:\n",
    "#criterion = torch.nn.CrossEntropyLoss()\n",
    "criterion = torch.nn.MSELoss()\n",
    "device = torch.device(\"cpu\")\n",
    "\n",
    "\n",
    "class Photonic_QCNN(nn.Module):\n",
    "    \"\"\" A class defining the fully connected neural network \"\"\"\n",
    "    def __init__(self, m, list_gates, modes_detected, device):\n",
    "        super(Photonic_QCNN, self).__init__()\n",
    "        self.device = device\n",
    "        self.Conv = Conv_RBS_density_I2(m//2, 2, device)\n",
    "        self.Pool = Pooling_2D_density_HW(m//2, m//4, device)\n",
    "        self.toFock = Basis_Change_Image_to_larger_Fock_density(m//4, m//4, add1, add2, device)\n",
    "        self.dense = VQC_Fock_BS_density(2, m//2 + add1 + add2, list_gates,device)\n",
    "        self.measure = Measure_Photon_detection(2, m//2 + add1 + add2, modes_detected, device)\n",
    "        #self.toFock =  Basis_Change_Image_to_Fock_density(m//4,m//4,device)\n",
    "        #self.dense = VQC_Fock_BS_density(2, m//2, list_gates,device)\n",
    "        #self.measure = Measure_Photon_detection(2, m//2, 0, device)\n",
    "    def forward(self, x):\n",
    "        x = self.Conv(x)\n",
    "        x = self.Pool(x)\n",
    "        return self.measure(self.dense(self.toFock(x)))\n",
    "       \n",
    "\n",
    "network_dense = Photonic_QCNN(m,  list_gates, modes_detected, device)"
   ]
  },
  {
   "cell_type": "markdown",
   "metadata": {},
   "source": [
    "Let's train the neural network:"
   ]
  },
  {
   "cell_type": "code",
   "execution_count": 5,
   "metadata": {},
   "outputs": [
    {
     "name": "stdout",
     "output_type": "stream",
     "text": [
      "Start training! Number of network total parameters: 10\n"
     ]
    },
    {
     "name": "stderr",
     "output_type": "stream",
     "text": [
      "/opt/anaconda3/envs/photonic_env/lib/python3.11/site-packages/torch/_tensor.py:889: UserWarning: non-inplace resize is deprecated\n",
      "  warnings.warn(\"non-inplace resize is deprecated\")\n"
     ]
    },
    {
     "name": "stdout",
     "output_type": "stream",
     "text": [
      "Evaluation on test set: Loss = 0.308704, accuracy = 55.0000 %\n",
      "Epoch 0: Loss = 0.277469, accuracy = 52.0000 %, time=2.8571s\n",
      "Epoch 1: Loss = 0.200490, accuracy = 64.7500 %, time=2.7818s\n",
      "Evaluation on test set: Loss = 0.155429, accuracy = 73.0000 %\n",
      "Epoch 2: Loss = 0.150486, accuracy = 78.2500 %, time=2.7020s\n",
      "Evaluation on test set: Loss = 0.127362, accuracy = 86.5000 %\n",
      "Epoch 3: Loss = 0.126436, accuracy = 87.2500 %, time=2.6241s\n",
      "Evaluation on test set: Loss = 0.112053, accuracy = 92.0000 %\n",
      "Epoch 4: Loss = 0.113877, accuracy = 93.2500 %, time=2.6696s\n",
      "Evaluation on test set: Loss = 0.104506, accuracy = 93.0000 %\n",
      "Epoch 5: Loss = 0.108319, accuracy = 94.7500 %, time=2.6899s\n",
      "Evaluation on test set: Loss = 0.101280, accuracy = 93.0000 %\n",
      "Epoch 6: Loss = 0.105937, accuracy = 94.7500 %, time=2.5797s\n",
      "Evaluation on test set: Loss = 0.099802, accuracy = 93.0000 %\n",
      "Epoch 7: Loss = 0.104767, accuracy = 95.0000 %, time=2.5884s\n",
      "Evaluation on test set: Loss = 0.098994, accuracy = 93.5000 %\n",
      "Epoch 8: Loss = 0.104086, accuracy = 95.0000 %, time=2.5676s\n",
      "Evaluation on test set: Loss = 0.098478, accuracy = 93.5000 %\n",
      "Epoch 9: Loss = 0.103638, accuracy = 95.0000 %, time=2.7224s\n",
      "Evaluation on test set: Loss = 0.098115, accuracy = 93.5000 %\n",
      "Epoch 10: Loss = 0.103320, accuracy = 95.0000 %, time=2.5967s\n",
      "Evaluation on test set: Loss = 0.097845, accuracy = 93.5000 %\n",
      "Epoch 11: Loss = 0.103085, accuracy = 94.7500 %, time=2.6895s\n",
      "Evaluation on test set: Loss = 0.097635, accuracy = 93.0000 %\n",
      "Epoch 12: Loss = 0.102903, accuracy = 94.2500 %, time=2.4799s\n",
      "Evaluation on test set: Loss = 0.097469, accuracy = 94.0000 %\n",
      "Epoch 13: Loss = 0.102760, accuracy = 94.0000 %, time=2.5903s\n",
      "Evaluation on test set: Loss = 0.097334, accuracy = 94.0000 %\n",
      "Epoch 14: Loss = 0.102646, accuracy = 93.7500 %, time=2.6577s\n",
      "Evaluation on test set: Loss = 0.097224, accuracy = 94.0000 %\n",
      "Epoch 15: Loss = 0.102553, accuracy = 94.2500 %, time=2.5576s\n",
      "Evaluation on test set: Loss = 0.097134, accuracy = 94.0000 %\n",
      "Epoch 16: Loss = 0.102476, accuracy = 93.7500 %, time=2.6381s\n",
      "Evaluation on test set: Loss = 0.097059, accuracy = 94.0000 %\n",
      "Epoch 17: Loss = 0.102413, accuracy = 93.5000 %, time=2.6156s\n",
      "Evaluation on test set: Loss = 0.096997, accuracy = 94.0000 %\n",
      "Epoch 18: Loss = 0.102361, accuracy = 93.5000 %, time=2.6344s\n",
      "Evaluation on test set: Loss = 0.096945, accuracy = 94.0000 %\n",
      "Epoch 19: Loss = 0.102317, accuracy = 93.5000 %, time=2.6489s\n",
      "Evaluation on test set: Loss = 0.096902, accuracy = 94.0000 %\n",
      "Epoch 20: Loss = 0.102281, accuracy = 93.5000 %, time=2.7096s\n",
      "Evaluation on test set: Loss = 0.096866, accuracy = 94.0000 %\n",
      "Epoch 21: Loss = 0.102250, accuracy = 93.5000 %, time=2.7347s\n",
      "Evaluation on test set: Loss = 0.096835, accuracy = 93.5000 %\n",
      "Epoch 22: Loss = 0.102224, accuracy = 93.2500 %, time=2.4941s\n",
      "Evaluation on test set: Loss = 0.096810, accuracy = 93.5000 %\n",
      "Epoch 23: Loss = 0.102202, accuracy = 93.0000 %, time=2.5334s\n",
      "Evaluation on test set: Loss = 0.096788, accuracy = 93.5000 %\n",
      "Epoch 24: Loss = 0.102183, accuracy = 93.2500 %, time=2.7130s\n",
      "Evaluation on test set: Loss = 0.096770, accuracy = 93.5000 %\n",
      "Epoch 25: Loss = 0.102167, accuracy = 93.2500 %, time=2.4862s\n",
      "Evaluation on test set: Loss = 0.096755, accuracy = 93.5000 %\n",
      "Epoch 26: Loss = 0.102154, accuracy = 93.2500 %, time=2.7246s\n",
      "Evaluation on test set: Loss = 0.096741, accuracy = 93.5000 %\n",
      "Epoch 27: Loss = 0.102142, accuracy = 93.2500 %, time=2.7408s\n",
      "Evaluation on test set: Loss = 0.096730, accuracy = 93.5000 %\n",
      "Epoch 28: Loss = 0.102132, accuracy = 93.2500 %, time=2.7079s\n",
      "Evaluation on test set: Loss = 0.096721, accuracy = 93.5000 %\n",
      "Epoch 29: Loss = 0.102123, accuracy = 93.0000 %, time=2.6538s\n",
      "Evaluation on test set: Loss = 0.096713, accuracy = 94.0000 %\n"
     ]
    }
   ],
   "source": [
    "import torch.nn.functional as F\n",
    "from torch.optim.lr_scheduler import ExponentialLR\n",
    "from Training.training import train_globally_MSE\n",
    "\n",
    "#optimizer = torch.optim.SGD(network_dense.parameters())\n",
    "optimizer = torch.optim.Adam(network_dense.parameters(), lr=1e-3, weight_decay=1e-4)\n",
    "scheduler = ExponentialLR(optimizer, gamma=0.9)\n",
    "output_scale, train_epochs, test_interval = 1, 30, 1\n",
    "\n",
    "network_state, training_loss_list, training_accuracy_list, testing_loss_list, testing_accuracy_list = train_globally_MSE(batch_size, 4, network_dense, train_data_loader, test_dataloader, optimizer, scheduler,\n",
    "                                  criterion, output_scale, train_epochs, test_interval, device)\n",
    "torch.save(network_state, \"model_state_MSE\")  # save network parameters"
   ]
  },
  {
   "cell_type": "code",
   "execution_count": 6,
   "metadata": {},
   "outputs": [
    {
     "data": {
      "image/png": "[encoded data removed]",
      "text/plain": [
       "<Figure size 1000x400 with 2 Axes>"
      ]
     },
     "metadata": {},
     "output_type": "display_data"
    }
   ],
   "source": [
    "figure, axis = plt.subplots(1, 2, figsize=(10,4))\n",
    "\n",
    "# Accuracy\n",
    "axis[0].plot([i+1 for i in range(len(training_accuracy_list))], training_accuracy_list, label='Training')\n",
    "axis[0].plot([i+2 for i in range(len(testing_accuracy_list))], [i* 100 for i in testing_accuracy_list], label='Testing')\n",
    "axis[0].set_title('Accuracy Evolution')\n",
    "axis[0].set_xlabel('Epoch')\n",
    "axis[0].set_ylabel('Accuracy (%)')\n",
    "axis[0].legend()\n",
    "# Loss\n",
    "axis[1].plot([i+1 for i in range(len(training_accuracy_list))], training_loss_list, label='Training')\n",
    "axis[1].plot([i+2 for i in range(len(testing_accuracy_list))], testing_loss_list, label='Testing')\n",
    "axis[1].set_title('Loss Evolution')\n",
    "axis[1].set_ylabel('Loss')\n",
    "axis[1].set_xlabel('Epoch')\n",
    "axis[1].legend()\n",
    "\n",
    "# Combine all the operations and display\n",
    "plt.show()"
   ]
  }
 ],
 "metadata": {
  "kernelspec": {
   "display_name": "photonic_env",
   "language": "python",
   "name": "python3"
  },
  "language_info": {
   "codemirror_mode": {
    "name": "ipython",
    "version": 3
   },
   "file_extension": ".py",
   "mimetype": "text/x-python",
   "name": "python",
   "nbconvert_exporter": "python",
   "pygments_lexer": "ipython3",
   "version": "3.11.9"
  }
 },
 "nbformat": 4,
 "nbformat_minor": 2
}
